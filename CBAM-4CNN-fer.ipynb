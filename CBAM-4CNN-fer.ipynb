{
  "nbformat": 4,
  "nbformat_minor": 0,
  "metadata": {
    "colab": {
      "provenance": []
    },
    "kernelspec": {
      "name": "python3",
      "display_name": "Python 3"
    },
    "language_info": {
      "name": "python"
    }
  },
  "cells": [
    {
      "cell_type": "markdown",
      "source": [
        "## descarga de datos"
      ],
      "metadata": {
        "id": "R402nsK5AV8M"
      }
    },
    {
      "cell_type": "code",
      "source": [
        "! curl -L -o fer2013.zip https://www.kaggle.com/api/v1/datasets/download/msambare/fer2013"
      ],
      "metadata": {
        "colab": {
          "base_uri": "https://localhost:8080/"
        },
        "id": "weRrqLOcRyR9",
        "outputId": "754c460e-4aaf-4fea-f4b1-b926b90b0ada"
      },
      "execution_count": null,
      "outputs": [
        {
          "output_type": "stream",
          "name": "stdout",
          "text": [
            "  % Total    % Received % Xferd  Average Speed   Time    Time     Time  Current\n",
            "                                 Dload  Upload   Total   Spent    Left  Speed\n",
            "  0     0    0     0    0     0      0      0 --:--:-- --:--:-- --:--:--     0\n",
            "100 60.3M  100 60.3M    0     0  43.0M      0  0:00:01  0:00:01 --:--:--  140M\n"
          ]
        }
      ]
    },
    {
      "cell_type": "code",
      "source": [
        "! unzip fer2013.zip -d fer"
      ],
      "metadata": {
        "id": "XSD7E-cHSATw"
      },
      "execution_count": null,
      "outputs": []
    },
    {
      "cell_type": "code",
      "source": [
        "! curl -L -o fer2013plus.zip https://www.kaggle.com/api/v1/datasets/download/subhaditya/fer2013plus"
      ],
      "metadata": {
        "id": "wpWCw1HKAZq4"
      },
      "execution_count": null,
      "outputs": []
    },
    {
      "cell_type": "code",
      "source": [
        "! unzip fer2013plus.zip -d fer_plus"
      ],
      "metadata": {
        "id": "MZXJrS62Ad9V"
      },
      "execution_count": null,
      "outputs": []
    },
    {
      "cell_type": "markdown",
      "source": [
        "## revisión de dataset"
      ],
      "metadata": {
        "id": "4Eev9-YpBDPX"
      }
    },
    {
      "cell_type": "code",
      "source": [
        "import os\n",
        "\n",
        "def list_folders_with_file_count(start_dir):\n",
        "  \"\"\"\n",
        "  Lists folders in a directory tree and the number of files within each folder.\n",
        "\n",
        "  Args:\n",
        "    start_dir: The starting directory to traverse.\n",
        "  \"\"\"\n",
        "  for root, dirs, files in os.walk(start_dir):\n",
        "    # Only print for directories\n",
        "    if os.path.isdir(root):\n",
        "      indent = '  ' * (root.count(os.sep) - start_dir.count(os.sep))\n",
        "      print(f\"{indent}{os.path.basename(root)}: {len(files)} files\")\n",
        "\n",
        "# Example usage with the unzipped directories\n",
        "list_folders_with_file_count('.')\n"
      ],
      "metadata": {
        "colab": {
          "base_uri": "https://localhost:8080/"
        },
        "id": "BTPdFq7jSCzA",
        "outputId": "2130edcc-a831-4391-b25b-005c63e95f5f"
      },
      "execution_count": null,
      "outputs": [
        {
          "output_type": "stream",
          "name": "stdout",
          "text": [
            ".: 1 files\n",
            "  .config: 8 files\n",
            "    logs: 0 files\n",
            "      2025.05.14: 6 files\n",
            "    configurations: 1 files\n",
            "  fer: 0 files\n",
            "    test: 0 files\n",
            "      surprise: 831 files\n",
            "      happy: 1774 files\n",
            "      fear: 1024 files\n",
            "      disgust: 111 files\n",
            "      angry: 958 files\n",
            "      sad: 1247 files\n",
            "      neutral: 1233 files\n",
            "    train: 0 files\n",
            "      surprise: 3171 files\n",
            "      happy: 7215 files\n",
            "      fear: 4097 files\n",
            "      disgust: 436 files\n",
            "      angry: 3995 files\n",
            "      sad: 4830 files\n",
            "      neutral: 4965 files\n",
            "  sample_data: 6 files\n"
          ]
        }
      ]
    },
    {
      "cell_type": "code",
      "source": [
        "train_path = \"fer/train\"\n",
        "test_path = \"fer/test\"\n",
        "labels = ['surprise', 'fear', 'angry', 'neutral', 'sad', 'disgust', 'happy']"
      ],
      "metadata": {
        "id": "fSgDwdlsZWxu"
      },
      "execution_count": null,
      "outputs": []
    },
    {
      "cell_type": "code",
      "source": [
        "import os\n",
        "import matplotlib.pyplot as plt\n",
        "import seaborn as sns\n",
        "\n",
        "# Function to count images per label in a directory\n",
        "def count_images_per_label(directory, labels):\n",
        "  counts = {}\n",
        "  for label in labels:\n",
        "    label_dir = os.path.join(directory, label)\n",
        "    if os.path.isdir(label_dir):\n",
        "      counts[label] = len(os.listdir(label_dir))\n",
        "    else:\n",
        "      counts[label] = 0\n",
        "  return counts\n",
        "\n",
        "# Get counts for train and test sets\n",
        "train_counts = count_images_per_label(train_path, labels)\n",
        "test_counts = count_images_per_label(test_path, labels)\n",
        "\n",
        "# Create bar plot for training data distribution\n",
        "plt.figure(figsize=(10, 6))\n",
        "sns.barplot(x=list(train_counts.keys()), y=list(train_counts.values()))\n",
        "plt.title('Distribution of Images in Training Set')\n",
        "plt.xlabel('Emotion Labels')\n",
        "plt.ylabel('Number of Images')\n",
        "plt.show()\n",
        "\n",
        "# Create bar plot for testing data distribution\n",
        "plt.figure(figsize=(10, 6))\n",
        "sns.barplot(x=list(test_counts.keys()), y=list(test_counts.values()))\n",
        "plt.title('Distribution of Images in Testing Set')\n",
        "plt.xlabel('Emotion Labels')\n",
        "plt.ylabel('Number of Images')\n",
        "plt.show()"
      ],
      "metadata": {
        "colab": {
          "base_uri": "https://localhost:8080/",
          "height": 817
        },
        "id": "lhPIIIeJZvs1",
        "outputId": "4a230817-9406-4e9e-a5c4-801e5c820466"
      },
      "execution_count": null,
      "outputs": [
        {
          "output_type": "display_data",
          "data": {
            "text/plain": [
              "<Figure size 1000x600 with 1 Axes>"
            ],
            "image/png": "[encoded data removed]"
          },
          "metadata": {}
        },
        {
          "output_type": "display_data",
          "data": {
            "text/plain": [
              "<Figure size 1000x600 with 1 Axes>"
            ],
            "image/png": "[encoded data removed]"
          },
          "metadata": {}
        }
      ]
    },
    {
      "cell_type": "markdown",
      "source": [],
      "metadata": {
        "id": "_XodtbW_BH_L"
      }
    },
    {
      "cell_type": "markdown",
      "source": [
        "# dataset y dataloader pytorch"
      ],
      "metadata": {
        "id": "6jsekRXcBOuK"
      }
    },
    {
      "cell_type": "code",
      "source": [
        "import os\n",
        "import numpy as np\n",
        "import torch\n",
        "from torch.utils.data import DataLoader, WeightedRandomSampler\n",
        "import torchvision.transforms as transforms\n",
        "from torchvision.datasets import ImageFolder\n",
        "\n",
        "# Configuración inicial\n",
        "RANDOM_SEED = 42\n",
        "BATCH_SIZE = 64\n",
        "\n",
        "DATA_MEAN = None  # Se calculará automáticamente\n",
        "DATA_STD = None   # Se calculará automáticamente\n",
        "\n",
        "# Transformaciones base para cálculo de media/std\n",
        "base_transform = transforms.Compose([\n",
        "    transforms.Grayscale(num_output_channels=1),\n",
        "    transforms.ToTensor()\n",
        "])\n",
        "\n",
        "# Cargar dataset temporal para cálculo de media/std\n",
        "temp_dataset = ImageFolder(root='fer/train', transform=base_transform)\n",
        "\n",
        "# Función para calcular media y std\n",
        "def calculate_mean_std(dataset):\n",
        "    loader = DataLoader(dataset, batch_size=256, shuffle=False)\n",
        "    mean = 0.\n",
        "    std = 0.\n",
        "    total_images = 0\n",
        "\n",
        "    for images, _ in loader:\n",
        "        batch_samples = images.size(0)\n",
        "        images = images.view(batch_samples, images.size(1), -1)\n",
        "        mean += images.mean(2).sum(0)\n",
        "        std += images.std(2).sum(0)\n",
        "        total_images += batch_samples\n",
        "\n",
        "    mean /= total_images\n",
        "    std /= total_images\n",
        "    return mean, std\n",
        "\n",
        "DATA_MEAN, DATA_STD = calculate_mean_std(temp_dataset)\n",
        "\n",
        "# Transformaciones personalizadas\n",
        "train_transform = transforms.Compose([\n",
        "    transforms.RandomHorizontalFlip(p=0.5),\n",
        "    # transforms.RandomRotation(10),\n",
        "    transforms.RandomAffine(0, shear=5),\n",
        "    transforms.Grayscale(num_output_channels=1),\n",
        "    transforms.ToTensor(),\n",
        "    transforms.Normalize(mean=DATA_MEAN, std=DATA_STD)\n",
        "])\n",
        "\n",
        "test_transform = transforms.Compose([\n",
        "    transforms.Grayscale(num_output_channels=1),\n",
        "    transforms.ToTensor(),\n",
        "    transforms.Normalize(mean=DATA_MEAN, std=DATA_STD)\n",
        "])\n",
        "\n",
        "# Cargar datasets\n",
        "train_dataset = ImageFolder(root='fer/train', transform=train_transform)\n",
        "test_dataset = ImageFolder(root='fer/test', transform=test_transform)\n",
        "\n",
        "# Función para balanceo de clases\n",
        "def create_balanced_sampler(dataset):\n",
        "    class_counts = np.bincount(dataset.targets)\n",
        "    class_weights = 1. / torch.tensor(class_counts, dtype=torch.float)\n",
        "    sample_weights = class_weights[dataset.targets]\n",
        "    return WeightedRandomSampler(\n",
        "        weights=sample_weights,\n",
        "        num_samples=len(sample_weights)*2,  # Oversampling 2x\n",
        "        replacement=True\n",
        "    )\n",
        "\n",
        "# Crear samplers y dataloaders\n",
        "train_sampler = create_balanced_sampler(train_dataset)\n",
        "\n",
        "train_loader = DataLoader(\n",
        "    train_dataset,\n",
        "    batch_size=BATCH_SIZE,\n",
        "    sampler=train_sampler,\n",
        "    num_workers=2,\n",
        "    pin_memory=True\n",
        ")\n",
        "\n",
        "test_loader = DataLoader(\n",
        "    test_dataset,\n",
        "    batch_size=BATCH_SIZE,\n",
        "    shuffle=False,\n",
        "    num_workers=2,\n",
        "    pin_memory=True\n",
        ")\n",
        "\n",
        "# Función para verificar balanceo\n",
        "def check_class_distribution(loader):\n",
        "    class_counts = np.zeros(len(loader.dataset.classes))\n",
        "    for _, labels in loader:\n",
        "        counts = np.bincount(labels.numpy(), minlength=len(class_counts))\n",
        "        class_counts += counts\n",
        "    return class_counts / class_counts.sum()\n",
        "\n",
        "# Verificaciones\n",
        "print(f\"Clases: {train_dataset.classes}\")\n",
        "print(f\"Media del dataset: {DATA_MEAN.item():.4f}\")\n",
        "print(f\"Desviación estándar: {DATA_STD.item():.4f}\")\n",
        "print(f\"\\nDistribución original (train): {np.bincount(train_dataset.targets)}\")\n",
        "print(f\"Distribución balanceada por batch (ejemplo):\")\n",
        "print(check_class_distribution(train_loader))\n",
        "\n",
        "# Verificación de dimensiones\n",
        "sample_batch = next(iter(train_loader))\n",
        "print(f\"\\nForma del batch: {sample_batch[0].shape}\")\n",
        "print(f\"Rango de valores: [{sample_batch[0].min():.4f}, {sample_batch[0].max():.4f}]\")\n",
        "\n",
        "# Longitud de los datasets\n",
        "print(f\"\\nTotal batches de entrenamiento: {len(train_loader)}\")\n",
        "print(f\"Total batches de validación: {len(test_loader)}\")\n",
        "print(f\"Muestras por época: {len(train_sampler)}\")"
      ],
      "metadata": {
        "colab": {
          "base_uri": "https://localhost:8080/"
        },
        "id": "bYFjPP_6e-By",
        "outputId": "417e2897-cebf-4987-ec33-ad959e3c8e33"
      },
      "execution_count": null,
      "outputs": [
        {
          "output_type": "stream",
          "name": "stdout",
          "text": [
            "Clases: ['angry', 'disgust', 'fear', 'happy', 'neutral', 'sad', 'surprise']\n",
            "Media del dataset: 0.5077\n",
            "Desviación estándar: 0.2120\n",
            "\n",
            "Distribución original (train): [3995  436 4097 7215 4965 4830 3171]\n",
            "Distribución balanceada por batch (ejemplo):\n",
            "[0.14181964 0.14408374 0.14382249 0.1397297  0.14213313 0.14303877\n",
            " 0.14537253]\n",
            "\n",
            "Forma del batch: torch.Size([64, 1, 48, 48])\n",
            "Rango de valores: [-2.3947, 2.3217]\n",
            "\n",
            "Total batches de entrenamiento: 898\n",
            "Total batches de validación: 113\n",
            "Muestras por época: 57418\n"
          ]
        }
      ]
    },
    {
      "cell_type": "code",
      "source": [
        "import numpy as np\n",
        "# If you have a DataLoader, you can iterate through it\n",
        "dataiter = iter(train_loader)\n",
        "images, labels = next(dataiter)\n",
        "\n",
        "print(\"Class to index mapping:\", train_dataset.class_to_idx)\n",
        "\n",
        "\n",
        "# Function to display images\n",
        "def imshow(img):\n",
        "    # Unnormalize the image\n",
        "    # Mean and std from normalization: transforms.Normalize(mean=[0.485, 0.456, 0.406], std=[0.229, 0.224, 0.225])\n",
        "    mean = np.array([0.485, 0.456, 0.406])\n",
        "    std = np.array([0.229, 0.224, 0.225])\n",
        "    img = std * img.numpy().transpose((1, 2, 0)) + mean\n",
        "    img = np.clip(img, 0, 1) # Clip values to be within [0, 1] after unnormalization\n",
        "    plt.imshow(img)\n",
        "    plt.axis('off')\n",
        "\n",
        "# Display a few images\n",
        "fig = plt.figure(figsize=(10, 4))\n",
        "for i in range(4): # Display 4 images\n",
        "    ax = fig.add_subplot(1, 4, i+1, xticks=[], yticks=[])\n",
        "    imshow(images[i])\n",
        "    # Assuming labels is a list of class names (e.g., ['surprise', 'fear', ...])\n",
        "    # If labels are integers, you need to map them to class names\n",
        "    ax.set_title(labels[i].item() if isinstance(labels, torch.Tensor) else labels[i])\n",
        "\n",
        "plt.show()"
      ],
      "metadata": {
        "colab": {
          "base_uri": "https://localhost:8080/",
          "height": 220
        },
        "id": "YO0fq3xxf-yg",
        "outputId": "0ed7562c-934a-41b6-8563-37e3edd75af3"
      },
      "execution_count": null,
      "outputs": [
        {
          "output_type": "stream",
          "name": "stdout",
          "text": [
            "Class to index mapping: {'angry': 0, 'disgust': 1, 'fear': 2, 'happy': 3, 'neutral': 4, 'sad': 5, 'surprise': 6}\n"
          ]
        },
        {
          "output_type": "display_data",
          "data": {
            "text/plain": [
              "<Figure size 1000x400 with 4 Axes>"
            ],
            "image/png": "[encoded data removed]"
          },
          "metadata": {}
        }
      ]
    },
    {
      "cell_type": "markdown",
      "source": [
        "## Red CBAM-4CNN"
      ],
      "metadata": {
        "id": "-mzeAqbIBVWW"
      }
    },
    {
      "cell_type": "code",
      "source": [
        "import torch\n",
        "from torch import nn\n",
        "\n",
        "class ChannelAttention(nn.Module):\n",
        "    def __init__(self, channel, reduction=16):\n",
        "        super().__init__()\n",
        "        self.gap = nn.AdaptiveAvgPool2d(1)\n",
        "        self.gmp = nn.AdaptiveMaxPool2d(1)\n",
        "\n",
        "        self.fc = nn.Sequential(\n",
        "            nn.Linear(channel, channel // reduction),\n",
        "            nn.ReLU(inplace=True),\n",
        "            nn.Linear(channel // reduction, channel)\n",
        "        )\n",
        "        self.sigmoid = nn.Sigmoid()\n",
        "\n",
        "    def forward(self, x):\n",
        "        b, c, _, _ = x.size()\n",
        "        gap = self.gap(x).view(b, c)\n",
        "        gmp = self.gmp(x).view(b, c)\n",
        "\n",
        "        gap = self.fc(gap)\n",
        "        gmp = self.fc(gmp)\n",
        "\n",
        "        weights = self.sigmoid(gap + gmp).view(b, c, 1, 1)\n",
        "        return x * weights\n",
        "\n",
        "class SpatialAttention(nn.Module):\n",
        "    def __init__(self, kernel_size=7):\n",
        "        super().__init__()\n",
        "        self.conv = nn.Conv2d(2, 1, kernel_size, padding=kernel_size//2)\n",
        "        self.sigmoid = nn.Sigmoid()\n",
        "\n",
        "    def forward(self, x):\n",
        "        avg_out = torch.mean(x, dim=1, keepdim=True)\n",
        "        max_out, _ = torch.max(x, dim=1, keepdim=True)\n",
        "        combined = torch.cat([avg_out, max_out], dim=1)\n",
        "        weights = self.sigmoid(self.conv(combined))\n",
        "        return x * weights\n",
        "\n",
        "class CBAMBlock(nn.Module):\n",
        "    def __init__(self, channel):\n",
        "        super().__init__()\n",
        "        self.ca = ChannelAttention(channel)\n",
        "        self.sa = SpatialAttention()\n",
        "\n",
        "    def forward(self, x):\n",
        "        x = self.ca(x)\n",
        "        x = self.sa(x)\n",
        "        return x\n",
        "\n",
        "class CBAM4CNN(nn.Module):\n",
        "    def __init__(self, num_classes=7):\n",
        "        super().__init__()\n",
        "\n",
        "        def conv_block(in_c, out_c, num_layers, pool=True):\n",
        "            layers = []\n",
        "            for i in range(num_layers):\n",
        "                layers += [\n",
        "                    nn.Conv2d(in_c if i==0 else out_c, out_c, 3, padding=1),\n",
        "                    nn.BatchNorm2d(out_c),\n",
        "                    nn.ReLU(inplace=True)\n",
        "                ]\n",
        "            if pool:\n",
        "                layers += [\n",
        "                    CBAMBlock(out_c),\n",
        "                    nn.MaxPool2d(2),\n",
        "                    nn.Dropout2d(0.3)\n",
        "                ]\n",
        "            return nn.Sequential(*layers)\n",
        "\n",
        "        self.features = nn.Sequential(\n",
        "            # Bloque 1\n",
        "            conv_block(1, 64, 2),\n",
        "            # Bloque 2\n",
        "            conv_block(64, 128, 3),\n",
        "            # Bloque 3\n",
        "            conv_block(128, 256, 4),\n",
        "            # Bloque 4 (sin dropout final)\n",
        "            nn.Sequential(\n",
        "                conv_block(256, 512, 4)[:-2],  # Elimina dropout y pooling\n",
        "                nn.MaxPool2d(2)\n",
        "            )\n",
        "        )\n",
        "\n",
        "        self.classifier = nn.Sequential(\n",
        "            nn.Flatten(),\n",
        "            nn.Dropout(0.3),\n",
        "            nn.Linear(512*3*3, num_classes),\n",
        "            nn.Softmax(dim=1)\n",
        "        )\n",
        "\n",
        "        self._init_weights()\n",
        "\n",
        "    def _init_weights(self):\n",
        "        for m in self.modules():\n",
        "            if isinstance(m, nn.Conv2d):\n",
        "                nn.init.kaiming_normal_(m.weight, mode='fan_out', nonlinearity='relu')\n",
        "                if m.bias is not None:\n",
        "                    nn.init.constant_(m.bias, 0)\n",
        "            elif isinstance(m, nn.BatchNorm2d):\n",
        "                nn.init.constant_(m.weight, 1)\n",
        "                nn.init.constant_(m.bias, 0)\n",
        "            elif isinstance(m, nn.Linear):\n",
        "                nn.init.normal_(m.weight, 0, 0.01)\n",
        "                nn.init.constant_(m.bias, 0)\n",
        "\n",
        "    def forward(self, x):\n",
        "        x = self.features(x)\n",
        "        return self.classifier(x)"
      ],
      "metadata": {
        "id": "YFnojOq7gmbX"
      },
      "execution_count": 1,
      "outputs": []
    },
    {
      "cell_type": "code",
      "source": [
        "## visualización de la arquitectura"
      ],
      "metadata": {
        "id": "vW8O0shqBdvm"
      },
      "execution_count": null,
      "outputs": []
    },
    {
      "cell_type": "code",
      "source": [
        "! pip install netron\n",
        "! pip install onnx"
      ],
      "metadata": {
        "colab": {
          "base_uri": "https://localhost:8080/"
        },
        "id": "qfeuwUuVAyK6",
        "outputId": "11ccd9b0-4c99-49d3-b087-b8ee9ae2354f"
      },
      "execution_count": 2,
      "outputs": [
        {
          "output_type": "stream",
          "name": "stdout",
          "text": [
            "Collecting netron\n",
            "  Downloading netron-8.3.4-py3-none-any.whl.metadata (1.5 kB)\n",
            "Downloading netron-8.3.4-py3-none-any.whl (1.9 MB)\n",
            "\u001b[?25l   \u001b[90m━━━━━━━━━━━━━━━━━━━━━━━━━━━━━━━━━━━━━━━━\u001b[0m \u001b[32m0.0/1.9 MB\u001b[0m \u001b[31m?\u001b[0m eta \u001b[36m-:--:--\u001b[0m\r\u001b[2K   \u001b[91m━━\u001b[0m\u001b[91m╸\u001b[0m\u001b[90m━━━━━━━━━━━━━━━━━━━━━━━━━━━━━━━━━━━━━\u001b[0m \u001b[32m0.1/1.9 MB\u001b[0m \u001b[31m4.3 MB/s\u001b[0m eta \u001b[36m0:00:01\u001b[0m\r\u001b[2K   \u001b[91m━━━━━━━━━━━━━━━━━━━━━\u001b[0m\u001b[91m╸\u001b[0m\u001b[90m━━━━━━━━━━━━━━━━━━\u001b[0m \u001b[32m1.0/1.9 MB\u001b[0m \u001b[31m15.9 MB/s\u001b[0m eta \u001b[36m0:00:01\u001b[0m\r\u001b[2K   \u001b[90m━━━━━━━━━━━━━━━━━━━━━━━━━━━━━━━━━━━━━━━━\u001b[0m \u001b[32m1.9/1.9 MB\u001b[0m \u001b[31m20.1 MB/s\u001b[0m eta \u001b[36m0:00:00\u001b[0m\n",
            "\u001b[?25hInstalling collected packages: netron\n",
            "Successfully installed netron-8.3.4\n",
            "Collecting onnx\n",
            "  Downloading onnx-1.18.0-cp311-cp311-manylinux_2_17_x86_64.manylinux2014_x86_64.whl.metadata (6.9 kB)\n",
            "Requirement already satisfied: numpy>=1.22 in /usr/local/lib/python3.11/dist-packages (from onnx) (2.0.2)\n",
            "Requirement already satisfied: protobuf>=4.25.1 in /usr/local/lib/python3.11/dist-packages (from onnx) (5.29.4)\n",
            "Requirement already satisfied: typing_extensions>=4.7.1 in /usr/local/lib/python3.11/dist-packages (from onnx) (4.13.2)\n",
            "Downloading onnx-1.18.0-cp311-cp311-manylinux_2_17_x86_64.manylinux2014_x86_64.whl (17.6 MB)\n",
            "\u001b[2K   \u001b[90m━━━━━━━━━━━━━━━━━━━━━━━━━━━━━━━━━━━━━━━━\u001b[0m \u001b[32m17.6/17.6 MB\u001b[0m \u001b[31m76.0 MB/s\u001b[0m eta \u001b[36m0:00:00\u001b[0m\n",
            "\u001b[?25hInstalling collected packages: onnx\n",
            "Successfully installed onnx-1.18.0\n"
          ]
        }
      ]
    },
    {
      "cell_type": "code",
      "source": [
        "model = CBAM4CNN(num_classes=7)\n",
        "\n",
        "# Define the output file name\n",
        "onnx_file_name = \"cbam4cnn_model.onnx\"\n",
        "\n",
        "dummy_input = torch.randn(64, 1, 48, 48)\n",
        "\n",
        "# Export the model\n",
        "torch.onnx.export(model,               # model being run\n",
        "                  dummy_input,         # model input (or a tuple for multiple inputs)\n",
        "                  onnx_file_name,      # where to save the model (can be a file or file-like object)\n",
        "                  export_params=True,  # store the trained parameter weights inside the model file\n",
        "                  opset_version=11,    # the ONNX version to export the model to\n",
        "                  do_constant_folding=True, # whether to execute constant folding for optimization\n",
        "                  input_names = ['input'], # the name of the input node(s)\n",
        "                  output_names = ['output'], # the name of the output node(s)\n",
        "                  dynamic_axes={'input' : {0 : 'batch_size'},    # variable length axes\n",
        "                                'output' : {0 : 'batch_size'}})\n",
        "\n",
        "print(f\"Model exported to {onnx_file_name}\")\n"
      ],
      "metadata": {
        "colab": {
          "base_uri": "https://localhost:8080/"
        },
        "id": "GXnuN4EEAIDP",
        "outputId": "daad7f88-f55d-476b-c998-9ee6816832bb"
      },
      "execution_count": 4,
      "outputs": [
        {
          "output_type": "stream",
          "name": "stdout",
          "text": [
            "Model exported to cbam4cnn_model.onnx\n"
          ]
        }
      ]
    },
    {
      "cell_type": "markdown",
      "source": [
        "## Entrenamiento"
      ],
      "metadata": {
        "id": "U4oClmLeB7Qp"
      }
    },
    {
      "cell_type": "markdown",
      "source": [
        "### lr scheduler ReduceLROnPlateau"
      ],
      "metadata": {
        "id": "R5qvO1F_CHzV"
      }
    },
    {
      "cell_type": "code",
      "source": [
        "! pip install torchmetrics"
      ],
      "metadata": {
        "id": "u3dSqu7tjo3K"
      },
      "execution_count": null,
      "outputs": []
    },
    {
      "cell_type": "code",
      "source": [
        "import torch\n",
        "from torch import nn, optim\n",
        "import numpy as np\n",
        "import matplotlib.pyplot as plt\n",
        "from tqdm import tqdm\n",
        "from sklearn.metrics import f1_score\n",
        "import copy\n",
        "import torchmetrics\n",
        "\n",
        "# Configuración de entrenamiento\n",
        "DEVICE = torch.device('cuda' if torch.cuda.is_available() else 'cpu')\n",
        "print(f'Using {DEVICE} device')\n",
        "EPOCHS = 50\n",
        "LR = 1e-3\n",
        "CHECKPOINT_PATH = 'best_model.pth'\n",
        "\n",
        "# Métricas\n",
        "train_losses = []\n",
        "val_losses = []\n",
        "accuracies = []\n",
        "f1_scores = []\n",
        "\n",
        "# Inicialización del modelo\n",
        "model = CBAM4CNN(num_classes=7).to(DEVICE)\n",
        "\n",
        "# Quitar la capa Softmax final (corrección importante)\n",
        "model.classifier = nn.Sequential(*list(model.classifier.children())[:-1])\n",
        "\n",
        "# Función de pérdida y optimizador\n",
        "criterion = nn.CrossEntropyLoss()\n",
        "optimizer = optim.Adam(model.parameters(), lr=LR, weight_decay=1e-4)\n",
        "scheduler = optim.lr_scheduler.ReduceLROnPlateau(optimizer, 'max', patience=3, factor=0.5, verbose=True)\n",
        "\n",
        "# Métricas de TorchMetrics\n",
        "train_acc_metric = torchmetrics.Accuracy(task='multiclass', num_classes=7).to(DEVICE)\n",
        "val_acc_metric = torchmetrics.Accuracy(task='multiclass', num_classes=7).to(DEVICE)\n",
        "f1_metric = torchmetrics.F1Score(task='multiclass', num_classes=7, average='macro').to(DEVICE)\n",
        "\n",
        "# Checkpoint inicial\n",
        "best_acc = 0.0\n",
        "best_weights = copy.deepcopy(model.state_dict())\n",
        "\n",
        "def train_epoch(model, loader, optimizer):\n",
        "    model.train()\n",
        "    running_loss = 0.0\n",
        "    progress_bar = tqdm(loader, desc='Training', leave=False)\n",
        "\n",
        "    for inputs, labels in progress_bar:\n",
        "        inputs = inputs.to(DEVICE)\n",
        "        labels = labels.to(DEVICE)\n",
        "\n",
        "        optimizer.zero_grad()\n",
        "\n",
        "        outputs = model(inputs)\n",
        "        loss = criterion(outputs, labels)\n",
        "\n",
        "        loss.backward()\n",
        "        optimizer.step()\n",
        "\n",
        "        running_loss += loss.item() * inputs.size(0)\n",
        "        train_acc_metric.update(outputs.softmax(dim=1), labels)\n",
        "\n",
        "        progress_bar.set_postfix({'Loss': loss.item()})\n",
        "\n",
        "    epoch_loss = running_loss / len(loader.dataset)\n",
        "    epoch_acc = train_acc_metric.compute()\n",
        "    train_acc_metric.reset()\n",
        "\n",
        "    return epoch_loss, epoch_acc\n",
        "\n",
        "def validate(model, loader):\n",
        "    model.eval()\n",
        "    running_loss = 0.0\n",
        "    all_preds = []\n",
        "    all_labels = []\n",
        "\n",
        "    with torch.no_grad():\n",
        "        for inputs, labels in tqdm(loader, desc='Validation', leave=False):\n",
        "            inputs = inputs.to(DEVICE)\n",
        "            labels = labels.to(DEVICE)\n",
        "\n",
        "            outputs = model(inputs)\n",
        "            loss = criterion(outputs, labels)\n",
        "\n",
        "            running_loss += loss.item() * inputs.size(0)\n",
        "            preds = torch.argmax(outputs, 1)\n",
        "\n",
        "            all_preds.append(preds.to(DEVICE))\n",
        "            all_labels.append(labels.to(DEVICE))\n",
        "\n",
        "    epoch_loss = running_loss / len(loader.dataset)\n",
        "    all_preds = torch.cat(all_preds)\n",
        "    all_labels = torch.cat(all_labels)\n",
        "\n",
        "    epoch_acc = val_acc_metric(all_preds, all_labels)\n",
        "    epoch_f1 = f1_metric(all_preds, all_labels)\n",
        "    val_acc_metric.reset()\n",
        "    f1_metric.reset()\n",
        "\n",
        "    return epoch_loss, epoch_acc, epoch_f1\n",
        "\n",
        "# Bucle principal de entrenamiento\n",
        "for epoch in range(EPOCHS):\n",
        "    print(f'\\nEpoch {epoch+1}/{EPOCHS}')\n",
        "\n",
        "    # Entrenamiento\n",
        "    train_loss, train_acc = train_epoch(model, train_loader, optimizer)\n",
        "\n",
        "    # Validación\n",
        "    val_loss, val_acc, val_f1 = validate(model, test_loader)\n",
        "\n",
        "    # Actualización del scheduler\n",
        "    scheduler.step(val_acc)\n",
        "\n",
        "    # Guardar métricas\n",
        "    train_losses.append(train_loss)\n",
        "    val_losses.append(val_loss)\n",
        "    accuracies.append(val_acc.item())\n",
        "    f1_scores.append(val_f1.item())\n",
        "\n",
        "    # Checkpoint\n",
        "    if val_acc > best_acc:\n",
        "        best_acc = val_acc\n",
        "        best_weights = copy.deepcopy(model.state_dict())\n",
        "        torch.save({\n",
        "            'epoch': epoch,\n",
        "            'model_state_dict': model.state_dict(),\n",
        "            'optimizer_state_dict': optimizer.state_dict(),\n",
        "            'scheduler_state_dict': scheduler.state_dict(),\n",
        "            'best_acc': best_acc,\n",
        "            'metrics': {\n",
        "                'train_losses': train_losses,\n",
        "                'val_losses': val_losses,\n",
        "                'accuracies': accuracies,\n",
        "                'f1_scores': f1_scores\n",
        "            }\n",
        "        }, CHECKPOINT_PATH)\n",
        "\n",
        "    # Mostrar progreso\n",
        "    print(f'Train Loss: {train_loss:.4f} | Val Loss: {val_loss:.4f}')\n",
        "    print(f'Val Accuracy: {val_acc:.4f} | Val F1: {val_f1:.4f}')\n",
        "\n",
        "# Cargar mejor modelo\n",
        "model.load_state_dict(best_weights)\n",
        "print(f'\\nBest Validation Accuracy: {best_acc:.4f}')\n",
        "\n",
        "# Visualización de métricas\n",
        "plt.figure(figsize=(12, 5))\n",
        "plt.subplot(1, 2, 1)\n",
        "plt.plot(train_losses, label='Train Loss')\n",
        "plt.plot(val_losses, label='Val Loss')\n",
        "plt.title('Loss Evolution')\n",
        "plt.legend()\n",
        "\n",
        "plt.subplot(1, 2, 2)\n",
        "plt.plot(accuracies, label='Accuracy')\n",
        "plt.plot(f1_scores, label='F1 Score')\n",
        "plt.title('Performance Metrics')\n",
        "plt.legend()\n",
        "plt.tight_layout()\n",
        "plt.show()\n",
        "\n",
        "# Evaluación final\n",
        "def evaluate_model(model, loader):\n",
        "    model.eval()\n",
        "    all_preds = []\n",
        "    all_labels = []\n",
        "\n",
        "    with torch.no_grad():\n",
        "        for inputs, labels in tqdm(loader):\n",
        "            inputs = inputs.to(DEVICE)\n",
        "            labels = labels.to(DEVICE)\n",
        "\n",
        "            outputs = model(inputs)\n",
        "            preds = torch.argmax(outputs, 1)\n",
        "\n",
        "            all_preds.append(preds.to(DEVICE))\n",
        "            all_labels.append(labels.to(DEVICE))\n",
        "\n",
        "    all_preds = torch.cat(all_preds)\n",
        "    all_labels = torch.cat(all_labels)\n",
        "\n",
        "    acc = val_acc_metric(all_preds, all_labels)\n",
        "    f1 = f1_metric(all_preds, all_labels)\n",
        "\n",
        "    print(f'\\nFinal Test Accuracy: {acc:.4f}')\n",
        "    print(f'Final Test F1 Score: {f1:.4f}')\n",
        "    return all_preds.cpu().numpy(), all_labels.cpu().numpy()\n",
        "\n",
        "# Evaluar en el conjunto de test completo\n",
        "preds, labels = evaluate_model(model, test_loader)"
      ],
      "metadata": {
        "colab": {
          "base_uri": "https://localhost:8080/",
          "height": 1000
        },
        "id": "f7MRM0Odjg__",
        "outputId": "581d9467-0148-4121-b7f6-d36d82862bc3"
      },
      "execution_count": null,
      "outputs": [
        {
          "output_type": "stream",
          "name": "stdout",
          "text": [
            "Using cuda device\n",
            "\n",
            "Epoch 1/50\n"
          ]
        },
        {
          "output_type": "stream",
          "name": "stderr",
          "text": []
        },
        {
          "output_type": "stream",
          "name": "stdout",
          "text": [
            "Train Loss: 3.6770 | Val Loss: 1.6635\n",
            "Val Accuracy: 0.3540 | Val F1: 0.2781\n",
            "\n",
            "Epoch 2/50\n"
          ]
        },
        {
          "output_type": "stream",
          "name": "stderr",
          "text": []
        },
        {
          "output_type": "stream",
          "name": "stdout",
          "text": [
            "Train Loss: 3.0862 | Val Loss: 1.4651\n",
            "Val Accuracy: 0.4361 | Val F1: 0.3834\n",
            "\n",
            "Epoch 3/50\n"
          ]
        },
        {
          "output_type": "stream",
          "name": "stderr",
          "text": []
        },
        {
          "output_type": "stream",
          "name": "stdout",
          "text": [
            "Train Loss: 2.7012 | Val Loss: 1.3366\n",
            "Val Accuracy: 0.4805 | Val F1: 0.4096\n",
            "\n",
            "Epoch 4/50\n"
          ]
        },
        {
          "output_type": "stream",
          "name": "stderr",
          "text": []
        },
        {
          "output_type": "stream",
          "name": "stdout",
          "text": [
            "Train Loss: 2.4791 | Val Loss: 1.2873\n",
            "Val Accuracy: 0.5135 | Val F1: 0.4395\n",
            "\n",
            "Epoch 5/50\n"
          ]
        },
        {
          "output_type": "stream",
          "name": "stderr",
          "text": []
        },
        {
          "output_type": "stream",
          "name": "stdout",
          "text": [
            "Train Loss: 2.3039 | Val Loss: 1.1984\n",
            "Val Accuracy: 0.5343 | Val F1: 0.4760\n",
            "\n",
            "Epoch 6/50\n"
          ]
        },
        {
          "output_type": "stream",
          "name": "stderr",
          "text": []
        },
        {
          "output_type": "stream",
          "name": "stdout",
          "text": [
            "Train Loss: 2.1783 | Val Loss: 1.1672\n",
            "Val Accuracy: 0.5548 | Val F1: 0.5097\n",
            "\n",
            "Epoch 7/50\n"
          ]
        },
        {
          "output_type": "stream",
          "name": "stderr",
          "text": []
        },
        {
          "output_type": "stream",
          "name": "stdout",
          "text": [
            "Train Loss: 2.0544 | Val Loss: 1.2169\n",
            "Val Accuracy: 0.5489 | Val F1: 0.4979\n",
            "\n",
            "Epoch 8/50\n"
          ]
        },
        {
          "output_type": "stream",
          "name": "stderr",
          "text": []
        },
        {
          "output_type": "stream",
          "name": "stdout",
          "text": [
            "Train Loss: 1.9688 | Val Loss: 1.1380\n",
            "Val Accuracy: 0.5769 | Val F1: 0.5251\n",
            "\n",
            "Epoch 9/50\n"
          ]
        },
        {
          "output_type": "stream",
          "name": "stderr",
          "text": []
        },
        {
          "output_type": "stream",
          "name": "stdout",
          "text": [
            "Train Loss: 1.9174 | Val Loss: 1.1290\n",
            "Val Accuracy: 0.5854 | Val F1: 0.5445\n",
            "\n",
            "Epoch 10/50\n"
          ]
        },
        {
          "output_type": "stream",
          "name": "stderr",
          "text": []
        },
        {
          "output_type": "stream",
          "name": "stdout",
          "text": [
            "Train Loss: 1.8434 | Val Loss: 1.0710\n",
            "Val Accuracy: 0.5986 | Val F1: 0.5635\n",
            "\n",
            "Epoch 11/50\n"
          ]
        },
        {
          "output_type": "stream",
          "name": "stderr",
          "text": []
        },
        {
          "output_type": "stream",
          "name": "stdout",
          "text": [
            "Train Loss: 1.7853 | Val Loss: 1.1245\n",
            "Val Accuracy: 0.5931 | Val F1: 0.5691\n",
            "\n",
            "Epoch 12/50\n"
          ]
        },
        {
          "output_type": "stream",
          "name": "stderr",
          "text": []
        },
        {
          "output_type": "stream",
          "name": "stdout",
          "text": [
            "Train Loss: 1.7529 | Val Loss: 1.0569\n",
            "Val Accuracy: 0.6076 | Val F1: 0.5756\n",
            "\n",
            "Epoch 13/50\n"
          ]
        },
        {
          "output_type": "stream",
          "name": "stderr",
          "text": []
        },
        {
          "output_type": "stream",
          "name": "stdout",
          "text": [
            "Train Loss: 1.7055 | Val Loss: 1.0302\n",
            "Val Accuracy: 0.6181 | Val F1: 0.5993\n",
            "\n",
            "Epoch 14/50\n"
          ]
        },
        {
          "output_type": "stream",
          "name": "stderr",
          "text": []
        },
        {
          "output_type": "stream",
          "name": "stdout",
          "text": [
            "Train Loss: 1.6610 | Val Loss: 1.0343\n",
            "Val Accuracy: 0.6181 | Val F1: 0.6008\n",
            "\n",
            "Epoch 15/50\n"
          ]
        },
        {
          "output_type": "stream",
          "name": "stderr",
          "text": []
        },
        {
          "output_type": "stream",
          "name": "stdout",
          "text": [
            "Train Loss: 1.6368 | Val Loss: 1.0763\n",
            "Val Accuracy: 0.6077 | Val F1: 0.5798\n",
            "\n",
            "Epoch 16/50\n"
          ]
        },
        {
          "output_type": "stream",
          "name": "stderr",
          "text": []
        },
        {
          "output_type": "stream",
          "name": "stdout",
          "text": [
            "Train Loss: 1.5978 | Val Loss: 1.0436\n",
            "Val Accuracy: 0.6219 | Val F1: 0.5966\n",
            "\n",
            "Epoch 17/50\n"
          ]
        },
        {
          "output_type": "stream",
          "name": "stderr",
          "text": []
        },
        {
          "output_type": "stream",
          "name": "stdout",
          "text": [
            "Train Loss: 1.5636 | Val Loss: 1.0275\n",
            "Val Accuracy: 0.6301 | Val F1: 0.6097\n",
            "\n",
            "Epoch 18/50\n"
          ]
        },
        {
          "output_type": "stream",
          "name": "stderr",
          "text": []
        },
        {
          "output_type": "stream",
          "name": "stdout",
          "text": [
            "Train Loss: 1.5488 | Val Loss: 1.0606\n",
            "Val Accuracy: 0.6158 | Val F1: 0.5846\n",
            "\n",
            "Epoch 19/50\n"
          ]
        },
        {
          "output_type": "stream",
          "name": "stderr",
          "text": []
        },
        {
          "output_type": "stream",
          "name": "stdout",
          "text": [
            "Train Loss: 1.5255 | Val Loss: 1.0397\n",
            "Val Accuracy: 0.6244 | Val F1: 0.5948\n",
            "\n",
            "Epoch 20/50\n"
          ]
        },
        {
          "output_type": "stream",
          "name": "stderr",
          "text": []
        },
        {
          "output_type": "stream",
          "name": "stdout",
          "text": [
            "Train Loss: 1.4905 | Val Loss: 1.0600\n",
            "Val Accuracy: 0.6241 | Val F1: 0.5971\n",
            "\n",
            "Epoch 21/50\n"
          ]
        },
        {
          "output_type": "stream",
          "name": "stderr",
          "text": []
        },
        {
          "output_type": "stream",
          "name": "stdout",
          "text": [
            "Train Loss: 1.4679 | Val Loss: 1.0281\n",
            "Val Accuracy: 0.6258 | Val F1: 0.6069\n",
            "\n",
            "Epoch 22/50\n"
          ]
        },
        {
          "output_type": "stream",
          "name": "stderr",
          "text": []
        },
        {
          "output_type": "stream",
          "name": "stdout",
          "text": [
            "Train Loss: 1.3142 | Val Loss: 1.0062\n",
            "Val Accuracy: 0.6524 | Val F1: 0.6366\n",
            "\n",
            "Epoch 23/50\n"
          ]
        },
        {
          "output_type": "stream",
          "name": "stderr",
          "text": []
        },
        {
          "output_type": "stream",
          "name": "stdout",
          "text": [
            "Train Loss: 1.2345 | Val Loss: 1.0434\n",
            "Val Accuracy: 0.6415 | Val F1: 0.6334\n",
            "\n",
            "Epoch 24/50\n"
          ]
        },
        {
          "output_type": "stream",
          "name": "stderr",
          "text": []
        },
        {
          "output_type": "stream",
          "name": "stdout",
          "text": [
            "Train Loss: 1.1824 | Val Loss: 1.0542\n",
            "Val Accuracy: 0.6491 | Val F1: 0.6374\n",
            "\n",
            "Epoch 25/50\n"
          ]
        },
        {
          "output_type": "stream",
          "name": "stderr",
          "text": []
        },
        {
          "output_type": "stream",
          "name": "stdout",
          "text": [
            "Train Loss: 1.1547 | Val Loss: 1.0379\n",
            "Val Accuracy: 0.6485 | Val F1: 0.6390\n",
            "\n",
            "Epoch 26/50\n"
          ]
        },
        {
          "output_type": "stream",
          "name": "stderr",
          "text": []
        },
        {
          "output_type": "stream",
          "name": "stdout",
          "text": [
            "Train Loss: 1.1322 | Val Loss: 1.0199\n",
            "Val Accuracy: 0.6532 | Val F1: 0.6405\n",
            "\n",
            "Epoch 27/50\n"
          ]
        },
        {
          "output_type": "stream",
          "name": "stderr",
          "text": []
        },
        {
          "output_type": "stream",
          "name": "stdout",
          "text": [
            "Train Loss: 1.0873 | Val Loss: 1.1121\n",
            "Val Accuracy: 0.6453 | Val F1: 0.6323\n",
            "\n",
            "Epoch 28/50\n"
          ]
        },
        {
          "output_type": "stream",
          "name": "stderr",
          "text": []
        },
        {
          "output_type": "stream",
          "name": "stdout",
          "text": [
            "Train Loss: 1.0510 | Val Loss: 1.0666\n",
            "Val Accuracy: 0.6552 | Val F1: 0.6383\n",
            "\n",
            "Epoch 29/50\n"
          ]
        },
        {
          "output_type": "stream",
          "name": "stderr",
          "text": []
        },
        {
          "output_type": "stream",
          "name": "stdout",
          "text": [
            "Train Loss: 1.0261 | Val Loss: 1.0867\n",
            "Val Accuracy: 0.6546 | Val F1: 0.6361\n",
            "\n",
            "Epoch 30/50\n"
          ]
        },
        {
          "output_type": "stream",
          "name": "stderr",
          "text": []
        },
        {
          "output_type": "stream",
          "name": "stdout",
          "text": [
            "Train Loss: 0.9966 | Val Loss: 1.0893\n",
            "Val Accuracy: 0.6551 | Val F1: 0.6386\n",
            "\n",
            "Epoch 31/50\n"
          ]
        },
        {
          "output_type": "stream",
          "name": "stderr",
          "text": []
        },
        {
          "output_type": "stream",
          "name": "stdout",
          "text": [
            "Train Loss: 0.9545 | Val Loss: 1.1076\n",
            "Val Accuracy: 0.6510 | Val F1: 0.6305\n",
            "\n",
            "Epoch 32/50\n"
          ]
        },
        {
          "output_type": "stream",
          "name": "stderr",
          "text": []
        },
        {
          "output_type": "stream",
          "name": "stdout",
          "text": [
            "Train Loss: 0.9457 | Val Loss: 1.1331\n",
            "Val Accuracy: 0.6549 | Val F1: 0.6346\n",
            "\n",
            "Epoch 33/50\n"
          ]
        },
        {
          "output_type": "stream",
          "name": "stderr",
          "text": []
        },
        {
          "output_type": "stream",
          "name": "stdout",
          "text": [
            "Train Loss: 0.8176 | Val Loss: 1.1640\n",
            "Val Accuracy: 0.6643 | Val F1: 0.6420\n",
            "\n",
            "Epoch 34/50\n"
          ]
        },
        {
          "output_type": "stream",
          "name": "stderr",
          "text": []
        },
        {
          "output_type": "stream",
          "name": "stdout",
          "text": [
            "Train Loss: 0.7590 | Val Loss: 1.2065\n",
            "Val Accuracy: 0.6613 | Val F1: 0.6423\n",
            "\n",
            "Epoch 35/50\n"
          ]
        },
        {
          "output_type": "stream",
          "name": "stderr",
          "text": []
        },
        {
          "output_type": "stream",
          "name": "stdout",
          "text": [
            "Train Loss: 0.7276 | Val Loss: 1.2218\n",
            "Val Accuracy: 0.6608 | Val F1: 0.6453\n",
            "\n",
            "Epoch 36/50\n"
          ]
        },
        {
          "output_type": "stream",
          "name": "stderr",
          "text": []
        },
        {
          "output_type": "stream",
          "name": "stdout",
          "text": [
            "Train Loss: 0.6924 | Val Loss: 1.2449\n",
            "Val Accuracy: 0.6592 | Val F1: 0.6410\n",
            "\n",
            "Epoch 37/50\n"
          ]
        },
        {
          "output_type": "stream",
          "name": "stderr",
          "text": []
        },
        {
          "output_type": "stream",
          "name": "stdout",
          "text": [
            "Train Loss: 0.6647 | Val Loss: 1.2793\n",
            "Val Accuracy: 0.6532 | Val F1: 0.6384\n",
            "\n",
            "Epoch 38/50\n"
          ]
        },
        {
          "output_type": "stream",
          "name": "stderr",
          "text": []
        },
        {
          "output_type": "stream",
          "name": "stdout",
          "text": [
            "Train Loss: 0.5899 | Val Loss: 1.2987\n",
            "Val Accuracy: 0.6592 | Val F1: 0.6451\n",
            "\n",
            "Epoch 39/50\n"
          ]
        },
        {
          "output_type": "stream",
          "name": "stderr",
          "text": []
        },
        {
          "output_type": "stream",
          "name": "stdout",
          "text": [
            "Train Loss: 0.5675 | Val Loss: 1.3393\n",
            "Val Accuracy: 0.6630 | Val F1: 0.6464\n",
            "\n",
            "Epoch 40/50\n"
          ]
        },
        {
          "output_type": "stream",
          "name": "stderr",
          "text": []
        },
        {
          "output_type": "stream",
          "name": "stdout",
          "text": [
            "Train Loss: 0.5318 | Val Loss: 1.3855\n",
            "Val Accuracy: 0.6591 | Val F1: 0.6469\n",
            "\n",
            "Epoch 41/50\n"
          ]
        },
        {
          "output_type": "stream",
          "name": "stderr",
          "text": []
        },
        {
          "output_type": "stream",
          "name": "stdout",
          "text": [
            "Train Loss: 0.5107 | Val Loss: 1.3724\n",
            "Val Accuracy: 0.6619 | Val F1: 0.6473\n",
            "\n",
            "Epoch 42/50\n"
          ]
        },
        {
          "output_type": "stream",
          "name": "stderr",
          "text": []
        },
        {
          "output_type": "stream",
          "name": "stdout",
          "text": [
            "Train Loss: 0.4704 | Val Loss: 1.4211\n",
            "Val Accuracy: 0.6605 | Val F1: 0.6446\n",
            "\n",
            "Epoch 43/50\n"
          ]
        },
        {
          "output_type": "stream",
          "name": "stderr",
          "text": []
        },
        {
          "output_type": "stream",
          "name": "stdout",
          "text": [
            "Train Loss: 0.4608 | Val Loss: 1.4539\n",
            "Val Accuracy: 0.6649 | Val F1: 0.6472\n",
            "\n",
            "Epoch 44/50\n"
          ]
        },
        {
          "output_type": "stream",
          "name": "stderr",
          "text": []
        },
        {
          "output_type": "stream",
          "name": "stdout",
          "text": [
            "Train Loss: 0.4398 | Val Loss: 1.4402\n",
            "Val Accuracy: 0.6599 | Val F1: 0.6462\n",
            "\n",
            "Epoch 45/50\n"
          ]
        },
        {
          "output_type": "stream",
          "name": "stderr",
          "text": []
        },
        {
          "output_type": "stream",
          "name": "stdout",
          "text": [
            "Train Loss: 0.4255 | Val Loss: 1.4592\n",
            "Val Accuracy: 0.6599 | Val F1: 0.6447\n",
            "\n",
            "Epoch 46/50\n"
          ]
        },
        {
          "output_type": "stream",
          "name": "stderr",
          "text": []
        },
        {
          "output_type": "stream",
          "name": "stdout",
          "text": [
            "Train Loss: 0.4197 | Val Loss: 1.4862\n",
            "Val Accuracy: 0.6598 | Val F1: 0.6471\n",
            "\n",
            "Epoch 47/50\n"
          ]
        },
        {
          "output_type": "stream",
          "name": "stderr",
          "text": []
        },
        {
          "output_type": "stream",
          "name": "stdout",
          "text": [
            "Train Loss: 0.4045 | Val Loss: 1.5025\n",
            "Val Accuracy: 0.6552 | Val F1: 0.6380\n",
            "\n",
            "Epoch 48/50\n"
          ]
        },
        {
          "output_type": "stream",
          "name": "stderr",
          "text": []
        },
        {
          "output_type": "stream",
          "name": "stdout",
          "text": [
            "Train Loss: 0.3957 | Val Loss: 1.5129\n",
            "Val Accuracy: 0.6591 | Val F1: 0.6452\n",
            "\n",
            "Epoch 49/50\n"
          ]
        },
        {
          "output_type": "stream",
          "name": "stderr",
          "text": []
        },
        {
          "output_type": "stream",
          "name": "stdout",
          "text": [
            "Train Loss: 0.3817 | Val Loss: 1.5478\n",
            "Val Accuracy: 0.6598 | Val F1: 0.6489\n",
            "\n",
            "Epoch 50/50\n"
          ]
        },
        {
          "output_type": "stream",
          "name": "stderr",
          "text": []
        },
        {
          "output_type": "stream",
          "name": "stdout",
          "text": [
            "Train Loss: 0.3823 | Val Loss: 1.5155\n",
            "Val Accuracy: 0.6587 | Val F1: 0.6454\n",
            "\n",
            "Best Validation Accuracy: 0.6649\n"
          ]
        },
        {
          "output_type": "display_data",
          "data": {
            "text/plain": [
              "<Figure size 1200x500 with 2 Axes>"
            ],
            "image/png": "[encoded data removed]"
          },
          "metadata": {}
        },
        {
          "output_type": "stream",
          "name": "stderr",
          "text": [
            "100%|██████████| 113/113 [00:03<00:00, 34.80it/s]"
          ]
        },
        {
          "output_type": "stream",
          "name": "stdout",
          "text": [
            "\n",
            "Final Test Accuracy: 0.6649\n",
            "Final Test F1 Score: 0.6472\n"
          ]
        },
        {
          "output_type": "stream",
          "name": "stderr",
          "text": [
            "\n"
          ]
        },
        {
          "output_type": "error",
          "ename": "TypeError",
          "evalue": "can't convert cuda:0 device type tensor to numpy. Use Tensor.cpu() to copy the tensor to host memory first.",
          "traceback": [
            "\u001b[0;31m---------------------------------------------------------------------------\u001b[0m",
            "\u001b[0;31mTypeError\u001b[0m                                 Traceback (most recent call last)",
            "\u001b[0;32m<ipython-input-18-c289a1a24376>\u001b[0m in \u001b[0;36m<cell line: 0>\u001b[0;34m()\u001b[0m\n\u001b[1;32m    189\u001b[0m \u001b[0;34m\u001b[0m\u001b[0m\n\u001b[1;32m    190\u001b[0m \u001b[0;31m# Evaluar en el conjunto de test completo\u001b[0m\u001b[0;34m\u001b[0m\u001b[0;34m\u001b[0m\u001b[0m\n\u001b[0;32m--> 191\u001b[0;31m \u001b[0mpreds\u001b[0m\u001b[0;34m,\u001b[0m \u001b[0mlabels\u001b[0m \u001b[0;34m=\u001b[0m \u001b[0mevaluate_model\u001b[0m\u001b[0;34m(\u001b[0m\u001b[0mmodel\u001b[0m\u001b[0;34m,\u001b[0m \u001b[0mtest_loader\u001b[0m\u001b[0;34m)\u001b[0m\u001b[0;34m\u001b[0m\u001b[0;34m\u001b[0m\u001b[0m\n\u001b[0m",
            "\u001b[0;32m<ipython-input-18-c289a1a24376>\u001b[0m in \u001b[0;36mevaluate_model\u001b[0;34m(model, loader)\u001b[0m\n\u001b[1;32m    186\u001b[0m     \u001b[0mprint\u001b[0m\u001b[0;34m(\u001b[0m\u001b[0;34mf'\\nFinal Test Accuracy: {acc:.4f}'\u001b[0m\u001b[0;34m)\u001b[0m\u001b[0;34m\u001b[0m\u001b[0;34m\u001b[0m\u001b[0m\n\u001b[1;32m    187\u001b[0m     \u001b[0mprint\u001b[0m\u001b[0;34m(\u001b[0m\u001b[0;34mf'Final Test F1 Score: {f1:.4f}'\u001b[0m\u001b[0;34m)\u001b[0m\u001b[0;34m\u001b[0m\u001b[0;34m\u001b[0m\u001b[0m\n\u001b[0;32m--> 188\u001b[0;31m     \u001b[0;32mreturn\u001b[0m \u001b[0mall_preds\u001b[0m\u001b[0;34m.\u001b[0m\u001b[0mnumpy\u001b[0m\u001b[0;34m(\u001b[0m\u001b[0;34m)\u001b[0m\u001b[0;34m,\u001b[0m \u001b[0mall_labels\u001b[0m\u001b[0;34m.\u001b[0m\u001b[0mnumpy\u001b[0m\u001b[0;34m(\u001b[0m\u001b[0;34m)\u001b[0m\u001b[0;34m\u001b[0m\u001b[0;34m\u001b[0m\u001b[0m\n\u001b[0m\u001b[1;32m    189\u001b[0m \u001b[0;34m\u001b[0m\u001b[0m\n\u001b[1;32m    190\u001b[0m \u001b[0;31m# Evaluar en el conjunto de test completo\u001b[0m\u001b[0;34m\u001b[0m\u001b[0;34m\u001b[0m\u001b[0m\n",
            "\u001b[0;31mTypeError\u001b[0m: can't convert cuda:0 device type tensor to numpy. Use Tensor.cpu() to copy the tensor to host memory first."
          ]
        }
      ]
    },
    {
      "cell_type": "code",
      "source": [
        "best_weights = copy.deepcopy(model.state_dict())\n",
        "torch.save({\n",
        "    'epoch': epoch,\n",
        "    'model_state_dict': model.state_dict(),\n",
        "    'optimizer_state_dict': optimizer.state_dict(),\n",
        "    'scheduler_state_dict': scheduler.state_dict(),\n",
        "    'best_acc': best_acc,\n",
        "    'metrics': {\n",
        "        'train_losses': train_losses,\n",
        "        'val_losses': val_losses,\n",
        "        'accuracies': accuracies,\n",
        "        'f1_scores': f1_scores\n",
        "    }\n",
        "}, CHECKPOINT_PATH)"
      ],
      "metadata": {
        "id": "NiYk0Rfm1a-b"
      },
      "execution_count": null,
      "outputs": []
    },
    {
      "cell_type": "markdown",
      "source": [
        "### lr scheduler OneCycleLR (mejor)"
      ],
      "metadata": {
        "id": "2k16BgU6CYKB"
      }
    },
    {
      "cell_type": "code",
      "source": [
        "import torch\n",
        "from torch import nn, optim\n",
        "import numpy as np\n",
        "import matplotlib.pyplot as plt\n",
        "from tqdm import tqdm\n",
        "from sklearn.metrics import f1_score\n",
        "import copy\n",
        "import torchmetrics\n",
        "\n",
        "# Configuración de entrenamiento\n",
        "DEVICE = torch.device('cuda' if torch.cuda.is_available() else 'cpu')\n",
        "print(f'Using {DEVICE} device')\n",
        "EPOCHS = 20\n",
        "LR = 1e-3\n",
        "CHECKPOINT_PATH = 'best_model.pth'\n",
        "\n",
        "steps_per_epoch = len(train_loader)\n",
        "total_steps = EPOCHS * steps_per_epoch\n",
        "\n",
        "\n",
        "# Métricas\n",
        "train_losses = []\n",
        "val_losses = []\n",
        "accuracies = []\n",
        "f1_scores = []\n",
        "\n",
        "# Inicialización del modelo\n",
        "model = CBAM4CNN(num_classes=7).to(DEVICE)\n",
        "\n",
        "# Quitar la capa Softmax final (corrección importante)\n",
        "model.classifier = nn.Sequential(*list(model.classifier.children())[:-1])\n",
        "\n",
        "# Función de pérdida y optimizador\n",
        "criterion = nn.CrossEntropyLoss()\n",
        "optimizer = optim.Adam(model.parameters(), lr=LR, weight_decay=1e-4)\n",
        "# scheduler = optim.lr_scheduler.ReduceLROnPlateau(optimizer, 'max', patience=3, factor=0.5, verbose=True)\n",
        "\n",
        "scheduler = torch.optim.lr_scheduler.OneCycleLR(\n",
        "    optimizer,\n",
        "    max_lr=LR,\n",
        "    steps_per_epoch=steps_per_epoch,\n",
        "    epochs=EPOCHS,\n",
        "    pct_start=0.3,\n",
        "    anneal_strategy='cos',\n",
        "    div_factor=25.0,\n",
        "    final_div_factor=1e4,\n",
        "    verbose=True\n",
        ")\n",
        "\n",
        "# Métricas de TorchMetrics\n",
        "train_acc_metric = torchmetrics.Accuracy(task='multiclass', num_classes=7).to(DEVICE)\n",
        "val_acc_metric = torchmetrics.Accuracy(task='multiclass', num_classes=7).to(DEVICE)\n",
        "f1_metric = torchmetrics.F1Score(task='multiclass', num_classes=7, average='macro').to(DEVICE)\n",
        "\n",
        "# Checkpoint inicial\n",
        "best_acc = 0.0\n",
        "best_weights = copy.deepcopy(model.state_dict())\n",
        "\n",
        "# def train_epoch(model, loader, optimizer):\n",
        "#     model.train()\n",
        "#     running_loss = 0.0\n",
        "#     progress_bar = tqdm(loader, desc='Training', leave=False)\n",
        "\n",
        "#     for inputs, labels in progress_bar:\n",
        "#         inputs = inputs.to(DEVICE)\n",
        "#         labels = labels.to(DEVICE)\n",
        "\n",
        "#         optimizer.zero_grad()\n",
        "\n",
        "#         outputs = model(inputs)\n",
        "#         loss = criterion(outputs, labels)\n",
        "\n",
        "#         loss.backward()\n",
        "#         optimizer.step()\n",
        "\n",
        "#         running_loss += loss.item() * inputs.size(0)\n",
        "#         train_acc_metric.update(outputs.softmax(dim=1), labels)\n",
        "\n",
        "#         progress_bar.set_postfix({'Loss': loss.item()})\n",
        "\n",
        "#     epoch_loss = running_loss / len(loader.dataset)\n",
        "#     epoch_acc = train_acc_metric.compute()\n",
        "#     train_acc_metric.reset()\n",
        "\n",
        "#     return epoch_loss, epoch_acc\n",
        "def train_epoch(model, loader, optimizer, scheduler):\n",
        "    model.train()\n",
        "    running_loss = 0.0\n",
        "    progress_bar = tqdm(loader, desc='Training', leave=False)\n",
        "\n",
        "    for inputs, labels in progress_bar:\n",
        "        inputs = inputs.to(DEVICE)\n",
        "        labels = labels.to(DEVICE)\n",
        "\n",
        "        optimizer.zero_grad()\n",
        "\n",
        "        outputs = model(inputs)\n",
        "        loss = criterion(outputs, labels)\n",
        "\n",
        "        loss.backward()\n",
        "        optimizer.step()\n",
        "        scheduler.step()  # 👈 Paso importante para OneCycleLR\n",
        "\n",
        "        running_loss += loss.item() * inputs.size(0)\n",
        "        train_acc_metric.update(outputs.softmax(dim=1), labels)\n",
        "\n",
        "        progress_bar.set_postfix({'Loss': loss.item()})\n",
        "\n",
        "    epoch_loss = running_loss / len(loader.dataset)\n",
        "    epoch_acc = train_acc_metric.compute()\n",
        "    train_acc_metric.reset()\n",
        "\n",
        "    return epoch_loss, epoch_acc\n",
        "\n",
        "def validate(model, loader):\n",
        "    model.eval()\n",
        "    running_loss = 0.0\n",
        "    all_preds = []\n",
        "    all_labels = []\n",
        "\n",
        "    with torch.no_grad():\n",
        "        for inputs, labels in tqdm(loader, desc='Validation', leave=False):\n",
        "            inputs = inputs.to(DEVICE)\n",
        "            labels = labels.to(DEVICE)\n",
        "\n",
        "            outputs = model(inputs)\n",
        "            loss = criterion(outputs, labels)\n",
        "\n",
        "            running_loss += loss.item() * inputs.size(0)\n",
        "            preds = torch.argmax(outputs, 1)\n",
        "\n",
        "            all_preds.append(preds.to(DEVICE))\n",
        "            all_labels.append(labels.to(DEVICE))\n",
        "\n",
        "    epoch_loss = running_loss / len(loader.dataset)\n",
        "    all_preds = torch.cat(all_preds)\n",
        "    all_labels = torch.cat(all_labels)\n",
        "\n",
        "    epoch_acc = val_acc_metric(all_preds, all_labels)\n",
        "    epoch_f1 = f1_metric(all_preds, all_labels)\n",
        "    val_acc_metric.reset()\n",
        "    f1_metric.reset()\n",
        "\n",
        "    return epoch_loss, epoch_acc, epoch_f1\n",
        "\n",
        "# Bucle principal de entrenamiento\n",
        "for epoch in range(EPOCHS):\n",
        "    print(f'\\nEpoch {epoch+1}/{EPOCHS}')\n",
        "\n",
        "    # Entrenamiento\n",
        "    # train_loss, train_acc = train_epoch(model, train_loader, optimizer)\n",
        "    train_loss, train_acc = train_epoch(model, train_loader, optimizer, scheduler)\n",
        "\n",
        "\n",
        "    # Validación\n",
        "    val_loss, val_acc, val_f1 = validate(model, test_loader)\n",
        "\n",
        "    # # Actualización del scheduler\n",
        "    # scheduler.step(val_acc)\n",
        "\n",
        "    # Guardar métricas\n",
        "    train_losses.append(train_loss)\n",
        "    val_losses.append(val_loss)\n",
        "    accuracies.append(val_acc.item())\n",
        "    f1_scores.append(val_f1.item())\n",
        "\n",
        "    # Checkpoint\n",
        "    if val_acc > best_acc:\n",
        "        best_acc = val_acc\n",
        "        best_weights = copy.deepcopy(model.state_dict())\n",
        "        torch.save({\n",
        "            'epoch': epoch,\n",
        "            'model_state_dict': model.state_dict(),\n",
        "            'optimizer_state_dict': optimizer.state_dict(),\n",
        "            'scheduler_state_dict': scheduler.state_dict(),\n",
        "            'best_acc': best_acc,\n",
        "            'metrics': {\n",
        "                'train_losses': train_losses,\n",
        "                'val_losses': val_losses,\n",
        "                'accuracies': accuracies,\n",
        "                'f1_scores': f1_scores\n",
        "            }\n",
        "        }, CHECKPOINT_PATH)\n",
        "\n",
        "    # Mostrar progreso\n",
        "    print(f'Train Loss: {train_loss:.4f} | Val Loss: {val_loss:.4f}')\n",
        "    print(f'Val Accuracy: {val_acc:.4f} | Val F1: {val_f1:.4f}')\n",
        "\n",
        "# Cargar mejor modelo\n",
        "model.load_state_dict(best_weights)\n",
        "print(f'\\nBest Validation Accuracy: {best_acc:.4f}')\n",
        "\n",
        "# Visualización de métricas\n",
        "plt.figure(figsize=(12, 5))\n",
        "plt.subplot(1, 2, 1)\n",
        "plt.plot(train_losses, label='Train Loss')\n",
        "plt.plot(val_losses, label='Val Loss')\n",
        "plt.title('Loss Evolution')\n",
        "plt.legend()\n",
        "\n",
        "plt.subplot(1, 2, 2)\n",
        "plt.plot(accuracies, label='Accuracy')\n",
        "plt.plot(f1_scores, label='F1 Score')\n",
        "plt.title('Performance Metrics')\n",
        "plt.legend()\n",
        "plt.tight_layout()\n",
        "plt.show()\n",
        "\n",
        "# Evaluación final\n",
        "def evaluate_model(model, loader):\n",
        "    model.eval()\n",
        "    all_preds = []\n",
        "    all_labels = []\n",
        "\n",
        "    with torch.no_grad():\n",
        "        for inputs, labels in tqdm(loader):\n",
        "            inputs = inputs.to(DEVICE)\n",
        "            labels = labels.to(DEVICE)\n",
        "\n",
        "            outputs = model(inputs)\n",
        "            preds = torch.argmax(outputs, 1)\n",
        "\n",
        "            all_preds.append(preds.to(DEVICE))\n",
        "            all_labels.append(labels.to(DEVICE))\n",
        "\n",
        "    all_preds = torch.cat(all_preds)\n",
        "    all_labels = torch.cat(all_labels)\n",
        "\n",
        "    acc = val_acc_metric(all_preds, all_labels)\n",
        "    f1 = f1_metric(all_preds, all_labels)\n",
        "\n",
        "    print(f'\\nFinal Test Accuracy: {acc:.4f}')\n",
        "    print(f'Final Test F1 Score: {f1:.4f}')\n",
        "    return all_preds.cpu().numpy(), all_labels.cpu().numpy()\n",
        "\n",
        "# Evaluar en el conjunto de test completo\n",
        "preds, labels = evaluate_model(model, test_loader)"
      ],
      "metadata": {
        "colab": {
          "base_uri": "https://localhost:8080/",
          "height": 1000
        },
        "id": "pPLqL7bZ124X",
        "outputId": "c43519b3-755d-4013-87ab-410703e5aa1d"
      },
      "execution_count": null,
      "outputs": [
        {
          "output_type": "stream",
          "name": "stdout",
          "text": [
            "Using cuda device\n",
            "\n",
            "Epoch 1/20\n"
          ]
        },
        {
          "output_type": "stream",
          "name": "stderr",
          "text": []
        },
        {
          "output_type": "stream",
          "name": "stdout",
          "text": [
            "Train Loss: 3.7679 | Val Loss: 1.8794\n",
            "Val Accuracy: 0.2651 | Val F1: 0.2205\n",
            "\n",
            "Epoch 2/20\n"
          ]
        },
        {
          "output_type": "stream",
          "name": "stderr",
          "text": []
        },
        {
          "output_type": "stream",
          "name": "stdout",
          "text": [
            "Train Loss: 3.1227 | Val Loss: 1.5099\n",
            "Val Accuracy: 0.4418 | Val F1: 0.3712\n",
            "\n",
            "Epoch 3/20\n"
          ]
        },
        {
          "output_type": "stream",
          "name": "stderr",
          "text": []
        },
        {
          "output_type": "stream",
          "name": "stdout",
          "text": [
            "Train Loss: 2.5166 | Val Loss: 1.2767\n",
            "Val Accuracy: 0.5170 | Val F1: 0.4769\n",
            "\n",
            "Epoch 4/20\n"
          ]
        },
        {
          "output_type": "stream",
          "name": "stderr",
          "text": []
        },
        {
          "output_type": "stream",
          "name": "stdout",
          "text": [
            "Train Loss: 2.2551 | Val Loss: 1.2594\n",
            "Val Accuracy: 0.5311 | Val F1: 0.4696\n",
            "\n",
            "Epoch 5/20\n"
          ]
        },
        {
          "output_type": "stream",
          "name": "stderr",
          "text": []
        },
        {
          "output_type": "stream",
          "name": "stdout",
          "text": [
            "Train Loss: 2.1055 | Val Loss: 1.2046\n",
            "Val Accuracy: 0.5557 | Val F1: 0.5034\n",
            "\n",
            "Epoch 6/20\n"
          ]
        },
        {
          "output_type": "stream",
          "name": "stderr",
          "text": []
        },
        {
          "output_type": "stream",
          "name": "stdout",
          "text": [
            "Train Loss: 2.0091 | Val Loss: 1.1730\n",
            "Val Accuracy: 0.5566 | Val F1: 0.5172\n",
            "\n",
            "Epoch 7/20\n"
          ]
        },
        {
          "output_type": "stream",
          "name": "stderr",
          "text": []
        },
        {
          "output_type": "stream",
          "name": "stdout",
          "text": [
            "Train Loss: 1.9321 | Val Loss: 1.1969\n",
            "Val Accuracy: 0.5659 | Val F1: 0.5201\n",
            "\n",
            "Epoch 8/20\n"
          ]
        },
        {
          "output_type": "stream",
          "name": "stderr",
          "text": []
        },
        {
          "output_type": "stream",
          "name": "stdout",
          "text": [
            "Train Loss: 1.8536 | Val Loss: 1.1333\n",
            "Val Accuracy: 0.5765 | Val F1: 0.5515\n",
            "\n",
            "Epoch 9/20\n"
          ]
        },
        {
          "output_type": "stream",
          "name": "stderr",
          "text": []
        },
        {
          "output_type": "stream",
          "name": "stdout",
          "text": [
            "Train Loss: 1.7920 | Val Loss: 1.1006\n",
            "Val Accuracy: 0.5922 | Val F1: 0.5745\n",
            "\n",
            "Epoch 10/20\n"
          ]
        },
        {
          "output_type": "stream",
          "name": "stderr",
          "text": []
        },
        {
          "output_type": "stream",
          "name": "stdout",
          "text": [
            "Train Loss: 1.7226 | Val Loss: 1.1067\n",
            "Val Accuracy: 0.5996 | Val F1: 0.5776\n",
            "\n",
            "Epoch 11/20\n"
          ]
        },
        {
          "output_type": "stream",
          "name": "stderr",
          "text": []
        },
        {
          "output_type": "stream",
          "name": "stdout",
          "text": [
            "Train Loss: 1.6445 | Val Loss: 1.1075\n",
            "Val Accuracy: 0.5893 | Val F1: 0.5639\n",
            "\n",
            "Epoch 12/20\n"
          ]
        },
        {
          "output_type": "stream",
          "name": "stderr",
          "text": []
        },
        {
          "output_type": "stream",
          "name": "stdout",
          "text": [
            "Train Loss: 1.5312 | Val Loss: 1.0506\n",
            "Val Accuracy: 0.6160 | Val F1: 0.5861\n",
            "\n",
            "Epoch 13/20\n"
          ]
        },
        {
          "output_type": "stream",
          "name": "stderr",
          "text": []
        },
        {
          "output_type": "stream",
          "name": "stdout",
          "text": [
            "Train Loss: 1.4196 | Val Loss: 1.0781\n",
            "Val Accuracy: 0.6289 | Val F1: 0.5985\n",
            "\n",
            "Epoch 14/20\n"
          ]
        },
        {
          "output_type": "stream",
          "name": "stderr",
          "text": []
        },
        {
          "output_type": "stream",
          "name": "stdout",
          "text": [
            "Train Loss: 1.2836 | Val Loss: 1.0688\n",
            "Val Accuracy: 0.6304 | Val F1: 0.6136\n",
            "\n",
            "Epoch 15/20\n"
          ]
        },
        {
          "output_type": "stream",
          "name": "stderr",
          "text": []
        },
        {
          "output_type": "stream",
          "name": "stdout",
          "text": [
            "Train Loss: 1.1171 | Val Loss: 1.1185\n",
            "Val Accuracy: 0.6434 | Val F1: 0.6242\n",
            "\n",
            "Epoch 16/20\n"
          ]
        },
        {
          "output_type": "stream",
          "name": "stderr",
          "text": []
        },
        {
          "output_type": "stream",
          "name": "stdout",
          "text": [
            "Train Loss: 0.9586 | Val Loss: 1.1722\n",
            "Val Accuracy: 0.6436 | Val F1: 0.6317\n",
            "\n",
            "Epoch 17/20\n"
          ]
        },
        {
          "output_type": "stream",
          "name": "stderr",
          "text": []
        },
        {
          "output_type": "stream",
          "name": "stdout",
          "text": [
            "Train Loss: 0.8010 | Val Loss: 1.2732\n",
            "Val Accuracy: 0.6492 | Val F1: 0.6374\n",
            "\n",
            "Epoch 18/20\n"
          ]
        },
        {
          "output_type": "stream",
          "name": "stderr",
          "text": []
        },
        {
          "output_type": "stream",
          "name": "stdout",
          "text": [
            "Train Loss: 0.6761 | Val Loss: 1.3154\n",
            "Val Accuracy: 0.6537 | Val F1: 0.6409\n",
            "\n",
            "Epoch 19/20\n"
          ]
        },
        {
          "output_type": "stream",
          "name": "stderr",
          "text": []
        },
        {
          "output_type": "stream",
          "name": "stdout",
          "text": [
            "Train Loss: 0.5807 | Val Loss: 1.3526\n",
            "Val Accuracy: 0.6542 | Val F1: 0.6425\n",
            "\n",
            "Epoch 20/20\n"
          ]
        },
        {
          "output_type": "stream",
          "name": "stderr",
          "text": []
        },
        {
          "output_type": "stream",
          "name": "stdout",
          "text": [
            "Train Loss: 0.5394 | Val Loss: 1.3701\n",
            "Val Accuracy: 0.6569 | Val F1: 0.6460\n",
            "\n",
            "Best Validation Accuracy: 0.6569\n"
          ]
        },
        {
          "output_type": "display_data",
          "data": {
            "text/plain": [
              "<Figure size 1200x500 with 2 Axes>"
            ],
            "image/png": "[encoded data removed]"
          },
          "metadata": {}
        },
        {
          "output_type": "stream",
          "name": "stderr",
          "text": [
            "100%|██████████| 113/113 [00:03<00:00, 34.35it/s]"
          ]
        },
        {
          "output_type": "stream",
          "name": "stdout",
          "text": [
            "\n",
            "Final Test Accuracy: 0.6569\n",
            "Final Test F1 Score: 0.6460\n"
          ]
        },
        {
          "output_type": "stream",
          "name": "stderr",
          "text": [
            "\n"
          ]
        }
      ]
    },
    {
      "cell_type": "markdown",
      "source": [],
      "metadata": {
        "id": "y4E6YaA1Dzr4"
      }
    }
  ]
}